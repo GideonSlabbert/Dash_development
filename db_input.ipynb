{
 "cells": [
  {
   "cell_type": "code",
   "execution_count": 2,
   "metadata": {},
   "outputs": [],
   "source": [
    "import sqlite3\n",
    "from sqlite3 import Error"
   ]
  },
  {
   "cell_type": "code",
   "execution_count": 70,
   "metadata": {},
   "outputs": [],
   "source": [
    "sql_create_table = \"\"\" CREATE TABLE IF NOT EXISTS Cases (\n",
    "                                        Caseid integer PRIMARY KEY,\n",
    "                                        Case_name text NOT NULL\n",
    "                                    ); \"\"\"\n",
    "try:\n",
    "    conn = sqlite3.connect(r\"C:\\FaultMap\\pythonsqlite.db\")\n",
    "    cur = conn.cursor()\n",
    "    cur.execute(sql_create_table)\n",
    "except Error as e:\n",
    "    print(e)\n",
    "finally:\n",
    "    if conn:\n",
    "        conn.close()"
   ]
  },
  {
   "cell_type": "code",
   "execution_count": 76,
   "metadata": {},
   "outputs": [],
   "source": [
    "sql = ''' INSERT INTO Cases(Case_name)\n",
    "          VALUES(?) '''\n",
    "\n",
    "project = ('level_concentration',);\n",
    "\n",
    "try:\n",
    "    conn = sqlite3.connect(r\"C:\\FaultMap\\pythonsqlite.db\")\n",
    "    cur = conn.cursor()\n",
    "    cur.execute(sql,project)\n",
    "    conn.commit()\n",
    "except Error as e:\n",
    "    print(e)\n",
    "finally:\n",
    "    if conn:\n",
    "        conn.close()"
   ]
  },
  {
   "cell_type": "code",
   "execution_count": 94,
   "metadata": {},
   "outputs": [
    {
     "name": "stdout",
     "output_type": "stream",
     "text": [
      "[(1, 'level_concentration')]\n"
     ]
    }
   ],
   "source": [
    "sql_select_content = ''' SELECT * FROM Cases '''\n",
    "try:\n",
    "    conn = sqlite3.connect(r\"C:\\FaultMap\\pythonsqlite.db\")\n",
    "    cur = conn.cursor()\n",
    "    cur.execute(sql_select_content)\n",
    "    records = cur.fetchall()\n",
    "    print(records)\n",
    "except Error as e:\n",
    "    print(e)\n",
    "finally:\n",
    "    if conn:\n",
    "        conn.close()"
   ]
  },
  {
   "cell_type": "code",
   "execution_count": 66,
   "metadata": {},
   "outputs": [],
   "source": [
    "sql_drop_table = ''' DROP TABLE projects2; '''\n",
    "try:\n",
    "    conn = sqlite3.connect(r\"C:\\FaultMap\\pythonsqlite.db\")\n",
    "    cur = conn.cursor()\n",
    "    cur.execute(sql_drop_table)\n",
    "except Error as e:\n",
    "    print(e)\n",
    "finally:\n",
    "    if conn:\n",
    "        conn.close()"
   ]
  },
  {
   "cell_type": "code",
   "execution_count": 67,
   "metadata": {
    "scrolled": true
   },
   "outputs": [
    {
     "name": "stdout",
     "output_type": "stream",
     "text": [
      "[]\n"
     ]
    }
   ],
   "source": [
    "sql_select_tables = ''' SELECT name FROM sqlite_master WHERE type = 'table'\n",
    "                        AND name NOT LIKE 'sqlite_%'; '''\n",
    "try:\n",
    "    conn = sqlite3.connect(r\"C:\\FaultMap\\pythonsqlite.db\")\n",
    "    cur = conn.cursor()\n",
    "    cur.execute(sql_select_tables)\n",
    "    records = cur.fetchall()\n",
    "    print(records)\n",
    "except Error as e:\n",
    "    print(e)\n",
    "finally:\n",
    "    if conn:\n",
    "        conn.close()"
   ]
  },
  {
   "cell_type": "code",
   "execution_count": null,
   "metadata": {},
   "outputs": [],
   "source": []
  },
  {
   "cell_type": "code",
   "execution_count": null,
   "metadata": {},
   "outputs": [],
   "source": []
  },
  {
   "cell_type": "code",
   "execution_count": 104,
   "metadata": {},
   "outputs": [],
   "source": [
    "def create_connection(db_file):\n",
    "    \"\"\" create a database connection to the SQLite databases\"\"\"\n",
    "    conn = None\n",
    "    try:\n",
    "        conn = sqlite3.connect(db_file)\n",
    "        return conn\n",
    "    except Error as e:\n",
    "        print(e)\n",
    "    return conn"
   ]
  },
  {
   "cell_type": "code",
   "execution_count": 114,
   "metadata": {},
   "outputs": [],
   "source": [
    "def create_table(conn, sql):\n",
    "    \"\"\" create a table from the create_table_sql statement\"\"\"\n",
    "    try:\n",
    "        cur = conn.cursor()\n",
    "        cur.execute(sql)\n",
    "    except Error as e:\n",
    "        print(e)\n",
    "    finally:\n",
    "        if conn:\n",
    "            conn.close()"
   ]
  },
  {
   "cell_type": "code",
   "execution_count": 115,
   "metadata": {},
   "outputs": [],
   "source": [
    "def insert_into_table(conn, sql, values):\n",
    "    \"\"\" insert values into specified table\"\"\"\n",
    "    try:\n",
    "        cur = conn.cursor()\n",
    "        cur.execute(sql, values)\n",
    "        conn.commit()\n",
    "    except Error as e:\n",
    "        print(e)\n",
    "    finally:\n",
    "        if conn:\n",
    "            conn.close()\n",
    "    return cur.lastrowid"
   ]
  },
  {
   "cell_type": "code",
   "execution_count": 118,
   "metadata": {},
   "outputs": [],
   "source": [
    "def delete_from_table(conn, sql, values):\n",
    "    \"\"\" delete values from specified table\"\"\"\n",
    "    try:\n",
    "        cur = conn.cursor()\n",
    "        cur.execute(sql, values)\n",
    "        conn.commit()\n",
    "    except Error as e:\n",
    "        print(e)\n",
    "    finally:\n",
    "        if conn:\n",
    "            conn.close()\n",
    "    return cur.lastrowid"
   ]
  },
  {
   "cell_type": "code",
   "execution_count": 125,
   "metadata": {},
   "outputs": [],
   "source": [
    "def select_all_from_table(conn, sql):\n",
    "    \"\"\" select values from specified table\"\"\"\n",
    "    try:\n",
    "        cur = conn.cursor()\n",
    "        cur.execute(sql)\n",
    "        content = cur.fetchall()\n",
    "    except Error as e:\n",
    "        print(e)\n",
    "    finally:\n",
    "        if conn:\n",
    "            conn.close()\n",
    "    return content,cur.lastrowid"
   ]
  },
  {
   "cell_type": "code",
   "execution_count": 135,
   "metadata": {},
   "outputs": [],
   "source": [
    "def drop_table(conn, sql):\n",
    "    \"\"\" select values from specified table\"\"\"\n",
    "    try:\n",
    "        cur = conn.cursor()\n",
    "        cur.execute(sql)\n",
    "    except Error as e:\n",
    "        print(e)\n",
    "    finally:\n",
    "        if conn:\n",
    "            conn.close()"
   ]
  },
  {
   "cell_type": "code",
   "execution_count": null,
   "metadata": {},
   "outputs": [],
   "source": []
  },
  {
   "cell_type": "code",
   "execution_count": null,
   "metadata": {},
   "outputs": [],
   "source": []
  },
  {
   "cell_type": "code",
   "execution_count": 146,
   "metadata": {},
   "outputs": [
    {
     "data": {
      "text/plain": [
       "1"
      ]
     },
     "execution_count": 146,
     "metadata": {},
     "output_type": "execute_result"
    }
   ],
   "source": [
    "db_file = r\"C:\\FaultMap\\pythonsqlite.db\"\n",
    "sql = ''' INSERT INTO Cases(Case_name,Evaluate_Full) VALUES(?,?) '''\n",
    "values = ('level_concentration',1);\n",
    "\n",
    "conn = create_connection(db_file)\n",
    "rows = insert_into_table(conn,sql,values)\n",
    "rows"
   ]
  },
  {
   "cell_type": "code",
   "execution_count": 140,
   "metadata": {},
   "outputs": [
    {
     "data": {
      "text/plain": [
       "0"
      ]
     },
     "execution_count": 140,
     "metadata": {},
     "output_type": "execute_result"
    }
   ],
   "source": [
    "db_file = r\"C:\\FaultMap\\pythonsqlite.db\"\n",
    "sql = ''' DELETE FROM Cases WHERE CaseID > ? '''\n",
    "values = (0,);\n",
    "\n",
    "conn = create_connection(db_file)\n",
    "delete_from_table(conn,sql,values)"
   ]
  },
  {
   "cell_type": "code",
   "execution_count": 147,
   "metadata": {},
   "outputs": [
    {
     "data": {
      "text/plain": [
       "([(1, 'level_concentration', 1)], 0)"
      ]
     },
     "execution_count": 147,
     "metadata": {},
     "output_type": "execute_result"
    }
   ],
   "source": [
    "db_file = r\"C:\\FaultMap\\pythonsqlite.db\"\n",
    "sql = ''' SELECT * FROM Cases'''\n",
    "\n",
    "conn = create_connection(db_file)\n",
    "select_all_from_table(conn,sql)"
   ]
  },
  {
   "cell_type": "code",
   "execution_count": 144,
   "metadata": {},
   "outputs": [],
   "source": [
    "db_file = r\"C:\\FaultMap\\pythonsqlite.db\"\n",
    "sql = ''' DROP TABLE Cases; '''\n",
    "\n",
    "conn = create_connection(db_file)\n",
    "drop_table(conn,sql)"
   ]
  },
  {
   "cell_type": "code",
   "execution_count": 145,
   "metadata": {},
   "outputs": [],
   "source": [
    "db_file = r\"C:\\FaultMap\\pythonsqlite.db\"\n",
    "sql = \"\"\" CREATE TABLE IF NOT EXISTS cases (\n",
    "                                        case_id integer PRIMARY KEY,\n",
    "                                        case_name text NOT NULL,\n",
    "                                        createarrays integer NOT NULL,\n",
    "                                        graphreduce integer NOT NULL,\n",
    "                                        noderank integer NOT NULL,\n",
    "                                        plotting integer NOT NULL,\n",
    "                                        trendextraction integer NOT NULL,\n",
    "                                        weightcalc integer NOT NULL,\n",
    "                                    ); \"\"\"\n",
    "conn = create_connection(db_file)\n",
    "create_table(conn,sql)"
   ]
  },
  {
   "cell_type": "code",
   "execution_count": null,
   "metadata": {},
   "outputs": [],
   "source": [
    "db_file = r\"C:\\FaultMap\\pythonsqlite.db\"\n",
    "sql = \"\"\" CREATE TABLE IF NOT EXISTS Scenarios (\n",
    "                                        Scenario_id integer PRIMARY KEY,\n",
    "                                        Scenario_name text NOT NULL,\n",
    "                                        Evaluate_Full integer NOT NULL\n",
    "                                    ); \"\"\"\n",
    "conn = create_connection(db_file)\n",
    "create_table(conn,sql)"
   ]
  }
 ],
 "metadata": {
  "kernelspec": {
   "display_name": "Python 3",
   "language": "python",
   "name": "python3"
  },
  "language_info": {
   "codemirror_mode": {
    "name": "ipython",
    "version": 3
   },
   "file_extension": ".py",
   "mimetype": "text/x-python",
   "name": "python",
   "nbconvert_exporter": "python",
   "pygments_lexer": "ipython3",
   "version": "3.7.3"
  }
 },
 "nbformat": 4,
 "nbformat_minor": 2
}
